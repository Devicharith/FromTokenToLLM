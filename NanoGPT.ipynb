{
  "cells": [
    {
      "cell_type": "code",
      "execution_count": null,
      "metadata": {
        "id": "cR5qJG5Rdlri"
      },
      "outputs": [],
      "source": [
        "import torch\n",
        "import numpy as np"
      ]
    },
    {
      "cell_type": "code",
      "execution_count": null,
      "metadata": {
        "colab": {
          "base_uri": "https://localhost:8080/"
        },
        "id": "vYsrfgmxlzxk",
        "outputId": "ff5f2fec-1a45-4861-97b7-f0783adffd84"
      },
      "outputs": [
        {
          "name": "stdout",
          "output_type": "stream",
          "text": [
            "--2024-10-14 08:21:00--  https://raw.githubusercontent.com/karpathy/char-rnn/master/data/tinyshakespeare/input.txt\n",
            "Resolving raw.githubusercontent.com (raw.githubusercontent.com)... 185.199.108.133, 185.199.109.133, 185.199.110.133, ...\n",
            "Connecting to raw.githubusercontent.com (raw.githubusercontent.com)|185.199.108.133|:443... connected.\n",
            "HTTP request sent, awaiting response... 200 OK\n",
            "Length: 1115394 (1.1M) [text/plain]\n",
            "Saving to: ‘input.txt’\n",
            "\n",
            "\rinput.txt             0%[                    ]       0  --.-KB/s               \rinput.txt           100%[===================>]   1.06M  --.-KB/s    in 0.04s   \n",
            "\n",
            "2024-10-14 08:21:00 (29.6 MB/s) - ‘input.txt’ saved [1115394/1115394]\n",
            "\n"
          ]
        }
      ],
      "source": [
        "!wget 'https://raw.githubusercontent.com/karpathy/char-rnn/master/data/tinyshakespeare/input.txt'"
      ]
    },
    {
      "cell_type": "code",
      "execution_count": null,
      "metadata": {
        "id": "KWMasi2LmEO6"
      },
      "outputs": [],
      "source": [
        "with open(\"/content/input.txt\") as op:\n",
        "  data = op.read()"
      ]
    },
    {
      "cell_type": "code",
      "execution_count": null,
      "metadata": {
        "colab": {
          "base_uri": "https://localhost:8080/"
        },
        "id": "jSpy13oMmU9D",
        "outputId": "7d4d7366-d8e3-476f-a868-ea114d0d4c9a"
      },
      "outputs": [
        {
          "name": "stdout",
          "output_type": "stream",
          "text": [
            "First Citizen:\n",
            "Before we proceed any further, hear me speak.\n",
            "\n",
            "All:\n",
            "Speak, speak.\n",
            "\n",
            "First Citizen:\n",
            "You are all resolved rather to die than to famish?\n",
            "\n",
            "All:\n",
            "Resolved. resolved.\n",
            "\n",
            "First Citizen:\n",
            "First, you know Caius Marcius is chief enemy to the people.\n",
            "\n",
            "All:\n",
            "We know't, we know't.\n",
            "\n",
            "First Citizen:\n",
            "Let us kill him, and we'll have corn at our own price.\n",
            "Is't a verdict?\n",
            "\n",
            "All:\n",
            "No more talking on't; let it be done: away, away!\n",
            "\n",
            "Second Citizen:\n",
            "One word, good citizens.\n",
            "\n",
            "First Citizen:\n",
            "We are accounted poor citizens, the patricians good.\n",
            "What authority surfeits on would relieve us: if they\n",
            "would yield us but the superfluity, while it were\n",
            "wholesome, we might guess they relieved us humanely;\n",
            "but they think we are too dear: the leanness that\n",
            "afflicts us, the object of our misery, is as an\n",
            "inventory to particularise their abundance; our\n",
            "sufferance is a gain to them Let us revenge this with\n",
            "our pikes, ere we become rakes: for the gods know I\n",
            "speak this in hunger for bread, not in thirst for revenge.\n",
            "\n",
            "Second Citizen:\n",
            "Would you proceed especially against Caius Marcius?\n",
            "\n",
            "All:\n",
            "Against him first: he's a very dog to the commonalty.\n",
            "\n",
            "Second Citizen:\n",
            "Consider you what services he has done for his country?\n",
            "\n",
            "First Citizen:\n",
            "Very well; and could be content to give him good\n",
            "report fort, but that he pays himself with being proud.\n",
            "\n",
            "Second Citizen:\n",
            "Nay, but speak not maliciously.\n",
            "\n",
            "First Citizen:\n",
            "I say unto you, what he hath done famously, he did\n",
            "it to that end: though soft-conscienced men can be\n",
            "content to say it was for his country he did it to\n",
            "please his mother and to be partly proud; which he\n",
            "is, even till the altitude of his virtue.\n",
            "\n",
            "Second Citizen:\n",
            "What he cannot help in his nature, you account a\n",
            "vice in him. You must in no way say he is covetous.\n",
            "\n",
            "First Citizen:\n",
            "If I must not, I need not be barren of accusations;\n",
            "he hath faults, with surplus, to tire in repetition.\n",
            "What shouts are these? The other side o' the city\n",
            "is risen: why stay we prating here? to the Capitol!\n",
            "\n",
            "All:\n",
            "Come, come.\n",
            "\n",
            "First Citizen:\n",
            "Soft! who comes here?\n",
            "\n",
            "Second Citizen:\n",
            "Worthy Menenius Agrippa; one that hath always loved\n",
            "the people.\n",
            "\n",
            "First Citizen:\n",
            "He's one honest enough: would all the rest were so!\n",
            "\n",
            "MENENIUS:\n",
            "What work's, my countrymen, in hand? where go you\n",
            "With bats and clubs? The matter? speak, I pray you.\n",
            "\n",
            "First Citizen:\n",
            "Our business is not unknown to the senate; they have\n",
            "had inkling this fortnight what we intend to do,\n",
            "which now we'll show 'em in deeds. They say poor\n",
            "suitors have strong breaths: they shall know we\n",
            "have strong arms too.\n",
            "\n",
            "MENENIUS:\n",
            "Why, masters, my good friends, mine honest neighbours,\n",
            "Will you undo yourselves?\n",
            "\n",
            "First Citizen:\n",
            "We cannot, sir, we are undone already.\n",
            "\n",
            "MENENIUS:\n",
            "I tell you, friends, most charitable care\n",
            "Have the patricians of you. For your wants,\n",
            "Your suffering in this dearth, you may as well\n",
            "Strike at the heaven with your staves as lift them\n",
            "Against the Roman state, whose course will on\n",
            "The way it takes, cracking ten thousand curbs\n",
            "Of more strong link asunder than can ever\n",
            "Appear in your impediment. For the dearth,\n",
            "The gods, not the patricians, make it, and\n",
            "Your knees to them, not arms, must help. Alack,\n",
            "You are transported by calamity\n",
            "Thither where more attends you, and you slander\n",
            "The helms o' the state, who care for you like fathers,\n",
            "When you curse them as enemies.\n",
            "\n",
            "First Citizen:\n",
            "Care for us! True, indeed! They ne'er cared for us\n",
            "yet: suffer us to famish, and their store-houses\n",
            "crammed with grain; make edicts for usury, to\n",
            "support usurers; repeal daily any wholesome act\n",
            "established against the rich, and provide more\n",
            "piercing statutes daily, to chain up and restrain\n",
            "the poor. If the wars eat us not up, they will; and\n",
            "there's all the love they bear us.\n",
            "\n",
            "MENENIUS:\n",
            "Either you must\n",
            "Confess yourselves wondrous malicious,\n",
            "Or be accused of folly. I shall tell you\n",
            "A pretty tale: it may be you have heard it;\n",
            "But, since it serves my purpose, I will venture\n",
            "To stale 't a little more.\n",
            "\n",
            "First Citizen:\n",
            "Well, I'll hear it, sir: yet you must not think to\n",
            "fob off our disgrace with a tale: but, an 't please\n",
            "you, deliver.\n",
            "\n",
            "MENENIUS:\n",
            "There was a time when all the body's members\n",
            "Rebell'd against the belly, thus accused it:\n",
            "That only like a gulf it did remain\n",
            "I' the midst o' the body, idle and unactive,\n",
            "Still cupboarding the viand, never bearing\n",
            "Like labour with the rest, where the other instruments\n",
            "Did see and hear, devise, instruct, walk, feel,\n",
            "And, mutually participate, did minister\n",
            "Unto the appetite and affection common\n",
            "Of the whole body. The belly answer'd--\n",
            "\n",
            "First Citizen:\n",
            "Well, sir, what answer made the belly?\n",
            "\n",
            "MENENIUS:\n",
            "Sir, I shall tell you. With a kind of smile,\n",
            "Which ne'er came from the lungs, but even thus--\n",
            "For, look you, I may make the belly smile\n",
            "As well as speak--it tauntingly replied\n",
            "To the discontented members, the mutinous parts\n",
            "That envied his receipt; even so most fitly\n",
            "As you malign our senators for that\n",
            "They are not such as you.\n",
            "\n",
            "First Citizen:\n",
            "Your belly's answer? What!\n",
            "The kingly-crowned head, the vigilant eye,\n",
            "The counsellor heart, the arm our soldier,\n",
            "Our steed the leg, the tongue our trumpeter.\n",
            "With other muniments and petty helps\n",
            "In this our fabric, if that they--\n",
            "\n",
            "MENENIUS:\n",
            "What then?\n",
            "'Fore me, this fellow speaks! What then? what then?\n",
            "\n",
            "First Citizen:\n",
            "Should by the cormorant belly be restrain'd,\n",
            "Who is the sink o' the body,--\n",
            "\n",
            "MENENIUS:\n",
            "Well, what then?\n",
            "\n",
            "First Citizen:\n",
            "The former agents, if they did complain,\n",
            "What could the belly answer?\n",
            "\n",
            "MENENIUS:\n",
            "I will tell you\n",
            "If you'll bestow a small--of what you have little--\n",
            "Patience awhile, you'll hear the belly's answer.\n",
            "\n",
            "First Citizen:\n",
            "Ye're long about it.\n",
            "\n",
            "MENENIUS:\n",
            "Note me this, good friend;\n",
            "Your most grave belly was deliberate,\n",
            "Not rash like his accusers, and thus answer'd:\n",
            "'True is it, my incorporate friends,' quoth he,\n",
            "'That I receive the general food at first,\n",
            "Which you do live upon; and fit it is,\n",
            "Because I am the store-house and the shop\n",
            "Of the whole body: but, if you do remember,\n",
            "I send it through the rivers of your blood,\n",
            "Even to the court, the heart, to the seat o' the brain;\n",
            "And, through the cranks and offices of man,\n",
            "The strongest nerves and small inferior veins\n",
            "From me receive that natural competency\n",
            "Whereby they live: and though that all at once,\n",
            "You, my good friends,'--this says the belly, mark me,--\n",
            "\n",
            "First Citizen:\n",
            "Ay, sir; well, well.\n",
            "\n",
            "MENENIUS:\n",
            "'Though all at once cannot\n",
            "See what I do deliver out to each,\n",
            "Yet I can make my audit up, that all\n",
            "From me do back receive the flour of all,\n",
            "And leave me but the bran.' What say you to't?\n",
            "\n",
            "First Citizen:\n",
            "It was an answer: how apply you this?\n",
            "\n",
            "MENENIUS:\n",
            "The senators of Rome are this good belly,\n",
            "And you the mutinous members; for examine\n",
            "Their counsels and their cares, digest things rightly\n",
            "Touching the weal o' the common, you shall find\n",
            "No public benefit which you receive\n",
            "But it proceeds or comes from them to you\n",
            "And no way from yourselves. What do you think,\n",
            "You, the great toe of this assembly?\n",
            "\n",
            "First Citizen:\n",
            "I the great toe! why the great toe?\n",
            "\n",
            "MENENIUS:\n",
            "For that, being one o' the lowest, basest, poorest,\n",
            "Of this most wise rebellion, thou go'st foremost:\n",
            "Thou rascal, that art worst in blood to run,\n",
            "Lead'st first to win some vantage.\n",
            "But make you ready your stiff bats and clubs:\n",
            "Rome and her rats are at the point of battle;\n",
            "The one side must have bale.\n",
            "Hail, noble Marcius!\n",
            "\n",
            "MARCIUS:\n",
            "Thanks. What's the matter, you dissentious rogues,\n",
            "That, rubbing the poor itch of your opinion,\n",
            "Make yourselves scabs?\n",
            "\n",
            "First Citizen:\n",
            "We have ever your good word.\n",
            "\n",
            "MARCIUS:\n",
            "He that will give good words to thee will flatter\n",
            "Beneath abhorring. What would you have, you curs,\n",
            "That like nor peace nor war? the one affrights you,\n",
            "The other makes you proud. He that trusts to you,\n",
            "Where he should find you lions, finds you hares;\n",
            "Where foxes, geese: you are no surer, no,\n",
            "Than is the coal of fire upon the ice,\n",
            "Or hailstone in the sun. Your virtue is\n",
            "To make him worthy whose offence subdues him\n",
            "And curse that justice did it.\n",
            "Who deserves greatness\n",
            "Deserves your hate; and your affections are\n",
            "A sick man's appetite, who desires most that\n",
            "Which would increase his evil. He that depends\n",
            "Upon your favours swims with fins of lead\n",
            "And hews down oaks with rushes. Hang ye! Trust Ye?\n",
            "With every minute you do change a mind,\n",
            "And call him noble that was now your hate,\n",
            "Him vile that was your garland. What's the matter,\n",
            "That in these several places of the city\n",
            "You cry against the noble senate, who,\n",
            "Under the gods, keep you in awe, which else\n",
            "Would feed on one another? What's their seeking?\n",
            "\n",
            "MENENIUS:\n",
            "For corn at their own rates; whereof, they say,\n",
            "The city is well stored.\n",
            "\n",
            "MARCIUS:\n",
            "Hang 'em! They say!\n",
            "They'll sit by the fire, and presume to know\n",
            "What's done i' the Capitol; who's like to rise,\n",
            "Who thrives and who declines; side factions\n",
            "and give out\n",
            "Conjectural marriages; making parties strong\n",
            "And feebling such as stand not in their liking\n",
            "Below their cobbled shoes. They say there's\n",
            "grain enough!\n",
            "Would the nobility lay aside their ruth,\n",
            "And let me use my sword, I'll make a quarry\n",
            "With thousands of these quarter'd slaves, as high\n",
            "As I could pick my lance.\n",
            "\n",
            "MENENIUS:\n",
            "Nay, these are almost thoroughly persuaded;\n",
            "For though abundantly they lack discretion,\n",
            "Yet are they passing cowardly. But, I beseech you,\n",
            "What says the other troop?\n",
            "\n",
            "MARCIUS:\n",
            "They are dissolved: hang 'em!\n",
            "They said they were an-hungry; sigh'd forth proverbs,\n",
            "That hunger broke stone walls, that dogs must eat,\n",
            "That meat was made for mouths, that the gods sent not\n",
            "Corn for the rich men only: with these shreds\n",
            "They vented their complainings; which being answer'd,\n",
            "And a petition granted them, a strange one--\n",
            "To break the heart of generosity,\n",
            "And make bold power look pale--they threw their caps\n",
            "As they would hang them on the horns o' the moon,\n",
            "Shouting their emulation.\n",
            "\n",
            "MENENIUS:\n",
            "What is granted them?\n",
            "\n",
            "MARCIUS:\n",
            "Five tribunes to defend their vulgar wisdoms,\n",
            "Of their own choice: one's Junius Brutus,\n",
            "Sicinius Velutus, and I know not--'Sdeath!\n",
            "The rabble should have first unroof'd the city,\n",
            "Ere so prevail'd with me: \n"
          ]
        }
      ],
      "source": [
        "print(data[:10000])"
      ]
    },
    {
      "cell_type": "code",
      "execution_count": null,
      "metadata": {
        "colab": {
          "base_uri": "https://localhost:8080/"
        },
        "id": "1n0fnCqvdKOR",
        "outputId": "357d8bf4-6608-4427-a02c-4d4d1dcb9ad5"
      },
      "outputs": [
        {
          "data": {
            "text/plain": [
              "892315.2000000001"
            ]
          },
          "execution_count": 6,
          "metadata": {},
          "output_type": "execute_result"
        }
      ],
      "source": [
        "1115394*0.8"
      ]
    },
    {
      "cell_type": "code",
      "execution_count": null,
      "metadata": {
        "id": "9RcHPr24c9AE"
      },
      "outputs": [],
      "source": [
        "train = data[:892315]\n",
        "val = data[892315:]"
      ]
    },
    {
      "cell_type": "code",
      "execution_count": null,
      "metadata": {
        "id": "hRHw4UQShdp2"
      },
      "outputs": [],
      "source": [
        "chars = sorted(list(set(data)))\n",
        "vocab_size = len(chars)\n",
        "ctoi = {c:i for i,c in enumerate(chars)}\n",
        "itoc = {i:c for c,i in ctoi.items()}"
      ]
    },
    {
      "cell_type": "code",
      "execution_count": null,
      "metadata": {
        "colab": {
          "base_uri": "https://localhost:8080/"
        },
        "id": "IDfSUUpwmhGN",
        "outputId": "c1e943dc-e1ce-4e60-aec3-6fbb1a052f60"
      },
      "outputs": [
        {
          "data": {
            "text/plain": [
              "(array([[47, 53, 52, 11,  1, 50, 39, 57]]),\n",
              " array([[53, 52, 11,  1, 50, 39, 57, 58]]))"
            ]
          },
          "execution_count": 9,
          "metadata": {},
          "output_type": "execute_result"
        }
      ],
      "source": [
        "def split_batch(batch_size, group, sample_size):\n",
        "  X, Y = [],[]\n",
        "  data = train if group==\"train\" else val\n",
        "  idx = torch.randint(0,len(data)-sample_size, (batch_size,))\n",
        "  for index in idx:\n",
        "    X.append([ctoi[i] for i in train[index:index+sample_size]])\n",
        "    Y.append([ctoi[i] for i in train[index+1:index+sample_size+1]])\n",
        "  return np.array(X), np.array(Y)\n",
        "\n",
        "X, Y = split_batch(1, 'train', 8)\n",
        "X,Y"
      ]
    },
    {
      "cell_type": "markdown",
      "metadata": {
        "id": "vVIQMQThheuY"
      },
      "source": [
        "# Pytorch"
      ]
    },
    {
      "cell_type": "code",
      "execution_count": null,
      "metadata": {
        "id": "glXVv4LahQFI"
      },
      "outputs": [],
      "source": [
        "class Bigram_model(torch.nn.Module):\n",
        "\n",
        "  def __init__(self, vocab_size):\n",
        "    super().__init__()\n",
        "    self.embedding_table = torch.nn.Embedding(vocab_size, vocab_size)\n",
        "\n",
        "  def forward_pass(self, input, target):\n",
        "    batch_size, sample_size = input.shape\n",
        "    logits = self.embedding_table(input) # (batch_size, sample_size, embedding_size)\n",
        "\n",
        "    logits = logits.view(batch_size*sample_size, -1) #(N, Embedding_size)\n",
        "    target = target.view(batch_size*sample_size) #(N)\n",
        "\n",
        "    loss = torch.nn.functional.cross_entropy(logits, target)\n",
        "    return loss"
      ]
    },
    {
      "cell_type": "code",
      "execution_count": null,
      "metadata": {
        "id": "72D5_XteIdr_"
      },
      "outputs": [],
      "source": [
        "model = Bigram_model(vocab_size)"
      ]
    },
    {
      "cell_type": "code",
      "execution_count": null,
      "metadata": {
        "colab": {
          "base_uri": "https://localhost:8080/"
        },
        "id": "HN5Jfa9b9YN9",
        "outputId": "1e352478-3319-4980-f45f-6b92ac657d24"
      },
      "outputs": [
        {
          "name": "stdout",
          "output_type": "stream",
          "text": [
            "4.6785888671875 loss at ith epoch 0\n",
            "3.74942684173584 loss at ith epoch 1000\n",
            "3.0493662357330322 loss at ith epoch 2000\n",
            "2.7686564922332764 loss at ith epoch 3000\n",
            "2.594926118850708 loss at ith epoch 4000\n",
            "2.565297842025757 loss at ith epoch 5000\n",
            "2.4505538940429688 loss at ith epoch 6000\n",
            "2.5507395267486572 loss at ith epoch 7000\n",
            "2.409308671951294 loss at ith epoch 8000\n",
            "2.5696308612823486 loss at ith epoch 9000\n"
          ]
        }
      ],
      "source": [
        "model = Bigram_model(vocab_size)\n",
        "\n",
        "epochs = 10000\n",
        "batch_size = 32\n",
        "sample_size = 8\n",
        "\n",
        "optimizer = torch.optim.AdamW(model.parameters(), lr=1e-3)\n",
        "\n",
        "for i in range(epochs):\n",
        "  X, Y = split_batch(batch_size, 'train', sample_size)\n",
        "\n",
        "  # Forward pass\n",
        "  loss = model.forward_pass(X,Y)\n",
        "\n",
        "  # Set the grads to zero before backprop\n",
        "  optimizer.zero_grad(set_to_none=True)\n",
        "\n",
        "  # Backprop\n",
        "  loss.backward()\n",
        "\n",
        "  # update weights\n",
        "  optimizer.step()\n",
        "\n",
        "  if i%1000==0:\n",
        "    print(f\"{loss} loss at ith epoch {i}\")"
      ]
    },
    {
      "cell_type": "markdown",
      "metadata": {
        "id": "E18ejGZY12Cc"
      },
      "source": [
        "# Self Attention in Keras\n"
      ]
    },
    {
      "cell_type": "code",
      "execution_count": null,
      "metadata": {
        "id": "ZvZerC9O6Dt6"
      },
      "outputs": [],
      "source": [
        "import keras.backend as K\n",
        "import tensorflow as tf\n",
        "import keras\n",
        "from keras import backend as K\n",
        "\n",
        "class Positional_embeds(keras.layers.Layer):\n",
        "    def __init__(self):\n",
        "        super().__init__()\n",
        "\n",
        "    def build(self, input_shape):\n",
        "        self.pos_embed = self.add_weight(name='positional_embeddings',\n",
        "                                      shape=(input_shape[1], input_shape[2]),\n",
        "                                      initializer='glorot_uniform',  # or any other initializer\n",
        "                                      trainable=True)\n",
        "    def call(self, inp_embed):\n",
        "        return inp_embed+self.pos_embed\n",
        "\n",
        "class one_head_self_attention(tf.keras.layers.Layer):\n",
        "    def __init__(self, size):\n",
        "        super().__init__()\n",
        "        self.query = keras.layers.Dense(units = size, activation='linear', use_bias = False)\n",
        "        self.key = keras.layers.Dense(units = size, activation='linear', use_bias = False)\n",
        "        self.value = keras.layers.Dense(units = size, activation='linear', use_bias = False)\n",
        "\n",
        "    def call(self, x):\n",
        "        queries = self.query(x)\n",
        "        keys = self.key(x)\n",
        "\n",
        "        # scale only queries dim\n",
        "        dk = queries.shape[-1]\n",
        "\n",
        "        # See how much interesing one character finds the other character\n",
        "        scaled_similarity = tf.linalg.matmul(queries, tf.transpose(keys, perm=[0, 2, 1])) * dk ** -0.5\n",
        "\n",
        "        # Mask the future info\n",
        "        mask = tf.experimental.numpy.tril(tf.ones_like(scaled_similarity), k=0)\n",
        "\n",
        "        # Replace zeros in the upper triangle with -inf\n",
        "        masked_similarity = tf.where(mask == 0, tf.constant(-float('inf'), dtype=tf.float32), scaled_similarity)\n",
        "\n",
        "        # Softmax probs\n",
        "        simi_probs = keras.layers.Softmax(axis=-1)(masked_similarity)\n",
        "\n",
        "        # Extract info from the chars based on the similarity\n",
        "        values = self.value(x)\n",
        "        extract_info = tf.linalg.matmul(simi_probs, values)\n",
        "        # tf.print(f\"Head: {extract_info}\")\n",
        "        return extract_info\n",
        "\n",
        "class MultiHead_attention(tf.keras.layers.Layer):\n",
        "    def __init__(self, size, n_heads):\n",
        "      super().__init__()\n",
        "      self.heads = [one_head_self_attention(size) for _ in range(n_heads)]\n",
        "\n",
        "    def call(self, x):\n",
        "      self.out = tf.concat([head(x) for head in self.heads], axis = -1)\n",
        "      return self.out\n",
        "\n",
        "class Feedforward(tf.keras.layers.Layer):\n",
        "    def __init__(self, n_embed):\n",
        "      super().__init__()\n",
        "      self.d1 = keras.layers.Dense(units = 3 * n_embed, activation='relu', use_bias = True, trainable = True)\n",
        "      self.d2 = keras.layers.Dense(units = n_embed, activation='relu', use_bias = True, trainable = True)\n",
        "\n",
        "    def call(self, x):\n",
        "      x = self.d1(x)\n",
        "      keras.layers.Dropout(dropout)\n",
        "      x = self.d2(x)\n",
        "      keras.layers.Dropout(dropout)\n",
        "      return x\n",
        "\n",
        "class Attention_Block(tf.keras.layers.Layer):\n",
        "    def __init__(self, embed_size, n_heads):\n",
        "      super().__init__()\n",
        "      head_size = embed_size // n_heads\n",
        "      self.multi_attention = MultiHead_attention(head_size, n_heads)\n",
        "      self.ff = Feedforward(embed_size)\n",
        "\n",
        "    def call(self, x):\n",
        "      x = x + self.multi_attention(x)\n",
        "      tf.keras.layers.LayerNormalization(epsilon=1e-6)\n",
        "      x = x + self.ff(x)\n",
        "      tf.keras.layers.LayerNormalization(epsilon=1e-6)\n",
        "      return x"
      ]
    },
    {
      "cell_type": "code",
      "execution_count": null,
      "metadata": {
        "colab": {
          "base_uri": "https://localhost:8080/"
        },
        "id": "KIpMhLwOiEWs",
        "outputId": "aed2a5a3-6745-468c-9f2d-795bb2a0abad"
      },
      "outputs": [
        {
          "name": "stdout",
          "output_type": "stream",
          "text": [
            "Done with self attention\n",
            "Model: \"model_3\"\n",
            "_________________________________________________________________\n",
            " Layer (type)                Output Shape              Param #   \n",
            "=================================================================\n",
            " input_4 (InputLayer)        [(None, 64)]              0         \n",
            "                                                                 \n",
            " embedding_3 (Embedding)     (None, 64, 128)           8320      \n",
            "                                                                 \n",
            " positional_embeds_3 (Posit  (None, 64, 128)           8192      \n",
            " ional_embeds)                                                   \n",
            "                                                                 \n",
            " attention__block_10 (Atten  (None, 64, 128)           147968    \n",
            " tion_Block)                                                     \n",
            "                                                                 \n",
            " attention__block_11 (Atten  (None, 64, 128)           147968    \n",
            " tion_Block)                                                     \n",
            "                                                                 \n",
            " attention__block_12 (Atten  (None, 64, 128)           147968    \n",
            " tion_Block)                                                     \n",
            "                                                                 \n",
            " attention__block_13 (Atten  (None, 64, 128)           147968    \n",
            " tion_Block)                                                     \n",
            "                                                                 \n",
            " dense_247 (Dense)           (None, 64, 65)            8385      \n",
            "                                                                 \n",
            "=================================================================\n",
            "Total params: 616769 (2.35 MB)\n",
            "Trainable params: 616769 (2.35 MB)\n",
            "Non-trainable params: 0 (0.00 Byte)\n",
            "_________________________________________________________________\n"
          ]
        }
      ],
      "source": [
        "import keras.backend as K\n",
        "import tensorflow as tf\n",
        "import keras\n",
        "from keras import backend as K\n",
        "\n",
        "batch_size = 16\n",
        "sample_size = 64\n",
        "n_embd = 128\n",
        "n_head = 8\n",
        "n_layer = 4\n",
        "dropout = 0.2\n",
        "vocab_size = vocab_size\n",
        "input_dim = sample_size\n",
        "\n",
        "input = keras.Input(shape=(sample_size))\n",
        "\n",
        "# Character embeddings\n",
        "inp_embed = keras.layers.Embedding(vocab_size, n_embd)(input) # (N, sample_size, n_embed)\n",
        "\n",
        "# Positional information\n",
        "pos_embed = Positional_embeds() # (N, sample_size, n_embed)\n",
        "\n",
        "# Concat EMB + POS\n",
        "x = pos_embed(inp_embed)\n",
        "\n",
        "# Self Attention\n",
        "attention_blocks = [Attention_Block(n_embd, n_head) for _ in range(n_layer)]\n",
        "for block in attention_blocks:\n",
        "  x = block(x)\n",
        "\n",
        "tf.keras.layers.LayerNormalization(epsilon=1e-6)\n",
        "print(\"Done with self attention\")\n",
        "\n",
        "# Dense layer\n",
        "output = keras.layers.Dense(units = vocab_size, activation='softmax', use_bias = True)(x)\n",
        "\n",
        "atten_model = keras.Model(input, output)\n",
        "\n",
        "atten_model.compile(optimizer=keras.optimizers.Adam(learning_rate=0.001), loss=keras.losses.CategoricalCrossentropy())\n",
        "\n",
        "atten_model.summary()"
      ]
    },
    {
      "cell_type": "code",
      "execution_count": null,
      "metadata": {
        "colab": {
          "base_uri": "https://localhost:8080/"
        },
        "id": "8K7A5XwfyQwI",
        "outputId": "e71ce901-01a6-49be-a2a9-d5d5ddcc0ada"
      },
      "outputs": [
        {
          "name": "stdout",
          "output_type": "stream",
          "text": [
            "[[50  1 58 46 43  1]] tf.Tensor(\n",
            "[[[0. 1. 0. 0. 0. 0. 0. 0. 0. 0. 0. 0. 0. 0. 0. 0. 0. 0. 0. 0. 0. 0. 0.\n",
            "   0. 0. 0. 0. 0. 0. 0. 0. 0. 0. 0. 0. 0. 0. 0. 0. 0. 0. 0. 0. 0. 0. 0.\n",
            "   0. 0. 0. 0. 0. 0. 0. 0. 0. 0. 0. 0. 0. 0. 0. 0. 0. 0. 0.]\n",
            "  [0. 0. 0. 0. 0. 0. 0. 0. 0. 0. 0. 0. 0. 0. 0. 0. 0. 0. 0. 0. 0. 0. 0.\n",
            "   0. 0. 0. 0. 0. 0. 0. 0. 0. 0. 0. 0. 0. 0. 0. 0. 0. 0. 0. 0. 0. 0. 0.\n",
            "   0. 0. 0. 0. 0. 0. 0. 0. 0. 0. 0. 0. 1. 0. 0. 0. 0. 0. 0.]\n",
            "  [0. 0. 0. 0. 0. 0. 0. 0. 0. 0. 0. 0. 0. 0. 0. 0. 0. 0. 0. 0. 0. 0. 0.\n",
            "   0. 0. 0. 0. 0. 0. 0. 0. 0. 0. 0. 0. 0. 0. 0. 0. 0. 0. 0. 0. 0. 0. 0.\n",
            "   1. 0. 0. 0. 0. 0. 0. 0. 0. 0. 0. 0. 0. 0. 0. 0. 0. 0. 0.]\n",
            "  [0. 0. 0. 0. 0. 0. 0. 0. 0. 0. 0. 0. 0. 0. 0. 0. 0. 0. 0. 0. 0. 0. 0.\n",
            "   0. 0. 0. 0. 0. 0. 0. 0. 0. 0. 0. 0. 0. 0. 0. 0. 0. 0. 0. 0. 1. 0. 0.\n",
            "   0. 0. 0. 0. 0. 0. 0. 0. 0. 0. 0. 0. 0. 0. 0. 0. 0. 0. 0.]\n",
            "  [0. 1. 0. 0. 0. 0. 0. 0. 0. 0. 0. 0. 0. 0. 0. 0. 0. 0. 0. 0. 0. 0. 0.\n",
            "   0. 0. 0. 0. 0. 0. 0. 0. 0. 0. 0. 0. 0. 0. 0. 0. 0. 0. 0. 0. 0. 0. 0.\n",
            "   0. 0. 0. 0. 0. 0. 0. 0. 0. 0. 0. 0. 0. 0. 0. 0. 0. 0. 0.]\n",
            "  [0. 0. 0. 0. 0. 0. 0. 0. 0. 0. 0. 0. 0. 0. 0. 0. 0. 0. 0. 0. 0. 0. 0.\n",
            "   0. 0. 0. 0. 0. 0. 0. 0. 0. 0. 0. 0. 0. 0. 0. 0. 0. 0. 0. 0. 0. 1. 0.\n",
            "   0. 0. 0. 0. 0. 0. 0. 0. 0. 0. 0. 0. 0. 0. 0. 0. 0. 0. 0.]]], shape=(1, 6, 65), dtype=float32)\n"
          ]
        }
      ],
      "source": [
        "epoches = 10000\n",
        "\n",
        "for i in range(epoches):\n",
        "  X, Y = split_batch(batch_size, 'train', sample_size)\n",
        "  Y  = tf.one_hot(Y, depth=vocab_size)\n",
        "  print(X, Y)\n",
        "  loss = atten_model.train_on_batch(X, Y)\n",
        "  if i%1000==0 or i==epoches-1:\n",
        "    X, Y = split_batch(batch_size, 'val', sample_size)\n",
        "    Y  = tf.one_hot(Y, depth=vocab_size)\n",
        "    val_loss = atten_model.test_on_batch(X, Y)\n",
        "    print(f\"Loss at {i}th iteration for Train is {loss} at val is {val_loss}\")"
      ]
    },
    {
      "cell_type": "code",
      "execution_count": null,
      "metadata": {
        "id": "PpEfUDnh4LIR"
      },
      "outputs": [],
      "source": [
        "atten_model.save_weights('/content/Atten_weights/')"
      ]
    },
    {
      "cell_type": "code",
      "execution_count": null,
      "metadata": {
        "colab": {
          "base_uri": "https://localhost:8080/"
        },
        "id": "jPYX6P9Q4_fF",
        "outputId": "8872661d-3db6-48d8-f628-0f6a783d8a5d"
      },
      "outputs": [
        {
          "name": "stdout",
          "output_type": "stream",
          "text": [
            "  adding: content/Atten_weights/ (stored 0%)\n",
            "  adding: content/Atten_weights/.data-00000-of-00001 (deflated 10%)\n",
            "  adding: content/Atten_weights/Atten_weights.data-00000-of-00001 (deflated 10%)\n",
            "  adding: content/Atten_weights/.index (deflated 81%)\n",
            "  adding: content/Atten_weights/checkpoint (deflated 34%)\n",
            "  adding: content/Atten_weights/Atten_weights.index (deflated 81%)\n"
          ]
        }
      ],
      "source": [
        "!zip -r /content/attention_weights.zip /content/Atten_weights"
      ]
    },
    {
      "cell_type": "code",
      "execution_count": null,
      "metadata": {
        "colab": {
          "base_uri": "https://localhost:8080/"
        },
        "id": "ulbtAVefDp2U",
        "outputId": "4c0f1ffa-143a-416e-8a50-a45788feb5d5"
      },
      "outputs": [
        {
          "name": "stdout",
          "output_type": "stream",
          "text": [
            "ps of women's rheum, which are\n",
            "As cheap as lies, he sold the blown so chamber\n",
            "As he servant return'd till your usure the\n",
            "not?\n",
            "Or truth, I know no is leave it anger o', if this deed\n",
            "Hast town a king: male for their satise:\n",
            "I had enemy here, answer spend must to better princess? wat a\n",
            "so. Let's 'tis trust: who proof's wonder'd?\n",
            "\n",
            "RATCLIFF:\n",
            "Must have I bore no month of mine.\n",
            "\n",
            "COMINIUS:\n",
            "Nay, it was new-like, what brothers: I it will not my designant bloody, give,\n",
            "And you some flight what you speak,\n",
            "Marise, in'd upon the church and say'd,\n",
            "For and malian, and way ran make our men,\n",
            "That deserved mistrust Henry, know it issue:\n",
            "To mue loving ribe, if thy giand.\n",
            "Alack, and eprof thee might favour'd the king\n",
            "And dolemn with our delay a most inform:\n",
            "As if they how with as ill;\n",
            "I wong the king, fruit he thus;\n",
            "And, drink up him a grave, 'fir hear!\n",
            "Nurse: I had I despite too for true seven.\n",
            "\n",
            "QUEEN ELIZABETH:\n",
            "Alas, call'd too regain'd there, to your life,\n",
            "That you psteed hopes, and mighty crave,\n",
            "Here in myself.\n",
            "Is a dead.\n",
            "\n",
            "FRIAR LAURENCE:\n",
            "Art then the dill, make ma\n"
          ]
        }
      ],
      "source": [
        "encode = lambda s: [ctoi[c] for c in s] # encoder: take a string, output a list of integers\n",
        "decode = lambda l: ''.join([itoc[i] for i in l]) # decoder: take a list of integers, output a string\n",
        "from IPython.display import clear_output\n",
        "\n",
        "def generate(idx, max_tokens, sample_size):\n",
        "    # get the predictions\n",
        "    idx = tf.convert_to_tensor(idx)\n",
        "    for i in range(max_tokens):\n",
        "      idx_cond = idx[:, -sample_size:] #(B, T)\n",
        "      probs = atten_model(idx_cond)[:, -1, :]\n",
        "      idx_next = torch.multinomial(torch.from_numpy(probs.numpy()), num_samples=1) # (B, 1)\n",
        "      # append sampled index to the running sequence\n",
        "      idx =  tf.concat(axis=1,values=[idx, idx_next]) # (B, T+1)\n",
        "\n",
        "      poem = decode(idx[0].numpy())\n",
        "      clear_output()\n",
        "      print(poem)\n",
        "    return idx\n",
        "\n",
        "X, Y = split_batch(1, 'val', 64)\n",
        "print(X)\n",
        "# print(Y)\n",
        "gene = generate(X, max_tokens=1000, sample_size=64)[0].numpy()\n",
        "s = [itoc[i] for i in gene]\n",
        "# ''.join(s)"
      ]
    },
    {
      "cell_type": "code",
      "execution_count": null,
      "metadata": {
        "id": "EmT47uKfWlhF"
      },
      "outputs": [],
      "source": [
        "print(''.join(s))"
      ]
    },
    {
      "cell_type": "code",
      "execution_count": null,
      "metadata": {
        "colab": {
          "base_uri": "https://localhost:8080/"
        },
        "id": "-rneuLN6bSbu",
        "outputId": "ef808cc1-9ecf-4e6c-f503-ae7ced756e77"
      },
      "outputs": [
        {
          "name": "stdout",
          "output_type": "stream",
          "text": [
            "(32, 8) (32, 8)\n"
          ]
        }
      ],
      "source": [
        "X, Y = split_batch(32, 'train', 8)\n",
        "print(X.shape, Y.shape)"
      ]
    },
    {
      "cell_type": "code",
      "execution_count": null,
      "metadata": {
        "id": "8jYHcFkPB4TY"
      },
      "outputs": [],
      "source": []
    }
  ],
  "metadata": {
    "accelerator": "GPU",
    "colab": {
      "collapsed_sections": [
        "vVIQMQThheuY"
      ],
      "gpuType": "T4",
      "provenance": []
    },
    "kernelspec": {
      "display_name": "Python 3",
      "name": "python3"
    },
    "language_info": {
      "name": "python"
    }
  },
  "nbformat": 4,
  "nbformat_minor": 0
}
